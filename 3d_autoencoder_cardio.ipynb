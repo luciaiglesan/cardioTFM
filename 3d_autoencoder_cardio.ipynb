{
 "cells": [
  {
   "cell_type": "code",
   "execution_count": 1,
   "id": "52c4da01",
   "metadata": {},
   "outputs": [],
   "source": [
    "import os\n",
    "os.environ['TF_ENABLE_ONEDNN_OPTS'] = '0'\n",
    "os.environ['TF_CPP_MIN_LOG_LEVEL'] = '2'"
   ]
  },
  {
   "cell_type": "markdown",
   "id": "7e0fa3de-eadc-41cf-aebc-a2ceb0399ab7",
   "metadata": {},
   "source": [
    "## Setup environment"
   ]
  },
  {
   "cell_type": "code",
   "execution_count": 2,
   "id": "22da6559",
   "metadata": {},
   "outputs": [
    {
     "name": "stdout",
     "output_type": "stream",
     "text": [
      "2024-12-11 23:27:53.517649: E external/local_xla/xla/stream_executor/cuda/cuda_fft.cc:477] Unable to register cuFFT factory: Attempting to register factory for plugin cuFFT when one has already been registered\n",
      "WARNING: All log messages before absl::InitializeLog() is called are written to STDERR\n",
      "E0000 00:00:1733959673.536161   19292 cuda_dnn.cc:8310] Unable to register cuDNN factory: Attempting to register factory for plugin cuDNN when one has already been registered\n",
      "E0000 00:00:1733959673.541982   19292 cuda_blas.cc:1418] Unable to register cuBLAS factory: Attempting to register factory for plugin cuBLAS when one has already been registered\n"
     ]
    }
   ],
   "source": [
    "# Verifica e instala MONAI, matplotlib y torch si es necesario\n",
    "!python -c \"import monai\" || pip install -q \"monai[all]\"  # Instala la versión completa de MONAI, que incluye dependencias\n",
    "!python -c \"import torch\" || pip install -q torch         # Verifica si torch está instalado, e instálalo si no lo está\n",
    "!python -c \"import matplotlib\" || pip install -q matplotlib\n",
    "\n",
    "%matplotlib inline"
   ]
  },
  {
   "cell_type": "code",
   "execution_count": 3,
   "id": "a3993c73",
   "metadata": {},
   "outputs": [
    {
     "name": "stderr",
     "output_type": "stream",
     "text": [
      "/mnt/nfs/home/liglesias/anaconda3/envs/cardio/lib/python3.10/site-packages/tqdm/auto.py:21: TqdmWarning: IProgress not found. Please update jupyter and ipywidgets. See https://ipywidgets.readthedocs.io/en/stable/user_install.html\n",
      "  from .autonotebook import tqdm as notebook_tqdm\n",
      "2024-12-11 23:28:07.839091: E external/local_xla/xla/stream_executor/cuda/cuda_fft.cc:477] Unable to register cuFFT factory: Attempting to register factory for plugin cuFFT when one has already been registered\n",
      "WARNING: All log messages before absl::InitializeLog() is called are written to STDERR\n",
      "E0000 00:00:1733959687.857671   19247 cuda_dnn.cc:8310] Unable to register cuDNN factory: Attempting to register factory for plugin cuDNN when one has already been registered\n",
      "E0000 00:00:1733959687.863316   19247 cuda_blas.cc:1418] Unable to register cuBLAS factory: Attempting to register factory for plugin cuBLAS when one has already been registered\n"
     ]
    },
    {
     "name": "stdout",
     "output_type": "stream",
     "text": [
      "['AHNet', 'AHnet', 'Ahnet', 'AttentionUnet', 'AutoEncoder', 'AutoencoderKL', 'BasicUNet', 'BasicUNetPlusPlus', 'BasicUnet', 'BasicUnetPlusPlus', 'Basicunet', 'BasicunetPlusPlus', 'BertAttention', 'BertMixedLayer', 'BertOutput', 'BertPreTrainedModel', 'BlockArgs', 'Classifier', 'ControlNet', 'Critic', 'DAF3D', 'DecoderOnlyTransformer', 'DenseNet', 'DenseNet121', 'DenseNet169', 'DenseNet201', 'DenseNet264', 'Densenet', 'Densenet121', 'Densenet169', 'Densenet201', 'Densenet264', 'DiNTS', 'DiffusionModelUNet', 'Discriminator', 'DynUNet', 'DynUnet', 'Dynunet', 'EfficientNet', 'EfficientNetBN', 'EfficientNetBNFeatures', 'EfficientNetEncoder', 'FLEXUNET_BACKBONE', 'FlexUNet', 'FlexUNetEncoderRegister', 'FlexibleUNet', 'FullyConnectedNet', 'Generator', 'GlobalNet', 'HighResBlock', 'HighResNet', 'HoVerNet', 'HoVernet', 'HoverNet', 'Hovernet', 'LocalNet', 'MILModel', 'MedNeXt', 'MedNeXtB', 'MedNeXtL', 'MedNeXtLarge', 'MedNeXtM', 'MedNeXtMedium', 'MedNeXtS', 'MedNeXtSmall', 'MedNext', 'MedNextB', 'MedNextBase', 'MedNextL', 'MedNextLarge', 'MedNextM', 'MedNextMedium', 'MedNextS', 'MedNextSmall', 'MultiModal', 'MultiScalePatchDiscriminator', 'NetAdapter', 'PatchDiscriminator', 'PatchMerging', 'PatchMergingV2', 'Pooler', 'Quicknat', 'RegUNet', 'Regressor', 'ResNet', 'ResNetBlock', 'ResNetBottleneck', 'ResNetEncoder', 'ResNetFeatures', 'SENet', 'SENet154', 'SEResNeXt101', 'SEResNeXt50', 'SEResNet101', 'SEResNet152', 'SEResNet50', 'SEResNext101', 'SEResNext50', 'SEnet', 'SEnet154', 'SEresnet101', 'SEresnet152', 'SEresnet50', 'SEresnext101', 'SEresnext50', 'SPADEAutoencoderKL', 'SPADEDiffusionModelUNet', 'SPADENet', 'SegResNet', 'SegResNetDS', 'SegResNetDS2', 'SegResNetVAE', 'Senet', 'Senet154', 'Seresnet101', 'Seresnet152', 'Seresnet50', 'Seresnext101', 'Seresnext50', 'SwinUNETR', 'TopologyConstruction', 'TopologyInstance', 'TopologySearch', 'TorchVisionFCModel', 'Transchex', 'UNETR', 'UNet', 'Unet', 'VISTA3D', 'VNet', 'VQVAE', 'VarAutoEncoder', 'VarFullyConnectedNet', 'ViT', 'ViTAutoEnc', 'VoxelMorph', 'VoxelMorphUNet', '__builtins__', '__cached__', '__doc__', '__file__', '__loader__', '__name__', '__package__', '__path__', '__spec__', 'ahnet', 'annotations', 'attentionunet', 'autoencoder', 'autoencoderkl', 'basic_unet', 'basic_unetplusplus', 'basicunet', 'basicunetplusplus', 'cell_sam_wrapper', 'classifier', 'controlnet', 'daf3d', 'densenet', 'densenet121', 'densenet169', 'densenet201', 'densenet264', 'diffusion_model_unet', 'dints', 'drop_connect', 'dynunet', 'efficientnet', 'flexible_unet', 'fullyconnectednet', 'generator', 'get_efficientnet_image_size', 'get_medicalnet_pretrained_resnet_args', 'get_pretrained_resnet_medicalnet', 'highresnet', 'hovernet', 'mednext', 'milmodel', 'netadapter', 'patchgan_discriminator', 'quicknat', 'regressor', 'regunet', 'resnet', 'resnet10', 'resnet101', 'resnet152', 'resnet18', 'resnet200', 'resnet34', 'resnet50', 'segresnet', 'segresnet_ds', 'senet', 'senet154', 'seresnet101', 'seresnet152', 'seresnet50', 'seresnext101', 'seresnext50', 'spade_autoencoderkl', 'spade_diffusion_model_unet', 'spade_network', 'swin_unetr', 'torchvision_fc', 'transchex', 'transformer', 'unet', 'unetr', 'varautoencoder', 'vista3d', 'vista3d132', 'vit', 'vitautoenc', 'vnet', 'voxelmorph', 'vqvae']\n",
      "1.5.dev2447\n"
     ]
    }
   ],
   "source": [
    "import monai\n",
    "print(dir(monai.networks.nets))\n",
    "print(monai.__version__)"
   ]
  },
  {
   "cell_type": "markdown",
   "id": "7325d9ae",
   "metadata": {},
   "source": [
    "## Setup imports"
   ]
  },
  {
   "cell_type": "code",
   "execution_count": 4,
   "id": "a44e7a6e",
   "metadata": {},
   "outputs": [
    {
     "name": "stdout",
     "output_type": "stream",
     "text": [
      "MONAI version: 1.5.dev2447\n",
      "Numpy version: 1.26.4\n",
      "Pytorch version: 2.5.1+cu124\n",
      "MONAI flags: HAS_EXT = False, USE_COMPILED = False, USE_META_DICT = False\n",
      "MONAI rev id: 2d6751b01bf78fddabe03b2c53645c6bc9808ed8\n",
      "MONAI __file__: /mnt/nfs/home/<username>/anaconda3/envs/cardio/lib/python3.10/site-packages/monai/__init__.py\n",
      "\n",
      "Optional dependencies:\n",
      "Pytorch Ignite version: 0.4.11\n",
      "ITK version: 5.4.0\n",
      "Nibabel version: 5.3.2\n",
      "scikit-image version: 0.24.0\n",
      "scipy version: 1.14.1\n",
      "Pillow version: 11.0.0\n",
      "Tensorboard version: 2.18.0\n",
      "gdown version: 5.2.0\n",
      "TorchVision version: 0.20.1+cu124\n",
      "tqdm version: 4.67.1\n",
      "lmdb version: 1.5.1\n",
      "psutil version: 5.9.0\n",
      "pandas version: 2.2.3\n",
      "einops version: 0.8.0\n",
      "transformers version: 4.40.2\n",
      "mlflow version: 2.18.0\n",
      "pynrrd version: 1.1.1\n",
      "clearml version: 1.16.5\n",
      "\n",
      "For details about installing the optional dependencies, please visit:\n",
      "    https://docs.monai.io/en/latest/installation.html#installing-the-recommended-dependencies\n",
      "\n"
     ]
    }
   ],
   "source": [
    "import os\n",
    "import shutil\n",
    "import tempfile\n",
    "import matplotlib.pyplot as plt\n",
    "import nibabel as nib\n",
    "from nibabel.orientations import axcodes2ornt, ornt_transform\n",
    "import numpy as np\n",
    "import torch\n",
    "import torch.nn as nn\n",
    "import torch.optim as optim\n",
    "import torch.nn.functional as F\n",
    "from tqdm import tqdm\n",
    "from monai import transforms\n",
    "from monai.apps import DecathlonDataset\n",
    "from monai.config import print_config\n",
    "from monai.data import Dataset, DataLoader\n",
    "from monai.networks.layers import Act\n",
    "from monai.utils import first, set_determinism\n",
    "from monai.transforms import Compose, LoadImaged, EnsureChannelFirstd, ScaleIntensityRanged\n",
    "#from torch.amp import autocast\n",
    "#from torch.cuda.amp import autocast\n",
    "from torch.amp import autocast\n",
    "from monai.networks.nets import AutoencoderKL, PatchDiscriminator\n",
    "# from generative.networks.nets import AutoencoderKL, PatchDiscriminator\n",
    "from monai.losses import PatchAdversarialLoss, PerceptualLoss\n",
    "from monai.utils.misc import ensure_tuple\n",
    "print_config()"
   ]
  },
  {
   "cell_type": "code",
   "execution_count": 5,
   "id": "b750e66c",
   "metadata": {},
   "outputs": [
    {
     "name": "stdout",
     "output_type": "stream",
     "text": [
      "Se encontraron 200 archivos en /mnt/nfs/home/liglesias/data_acdc/masks_training\n",
      "Se encontraron 100 archivos en /mnt/nfs/home/liglesias/data_acdc/masks_testing\n"
     ]
    }
   ],
   "source": [
    "#root_dir = r\"C:/Users/Lucia/Desktop/MÁSTER/TFM_Data/database\"\n",
    "#root_dir = '/mnt/nfs/home/liglesias/data_tgv'\n",
    "#root_dir = '//atlas.bit.upm.es/BIT-UPM-projects/CARDIO-HULP/SCRATCH_STUDENTS/liglesias/data_acdc'\n",
    "\n",
    "root_dir = '/mnt/nfs/home/liglesias/data_acdc'\n",
    "\n",
    "training_dir = os.path.join(root_dir, \"masks_training\")\n",
    "testing_dir = os.path.join(root_dir, \"masks_testing\")\n",
    "\n",
    "#training_dir = os.path.join(root_dir, \"train\")\n",
    "#testing_dir = os.path.join(root_dir, \"test\")\n",
    "\n",
    "assert os.path.exists(training_dir), f\"El directorio {training_dir} no existe\"\n",
    "assert os.path.exists(testing_dir), f\"El directorio {testing_dir} no existe\"\n",
    "\n",
    "def list_nifti_files(directory):\n",
    "    nifti_files = []\n",
    "    for root, _, files in os.walk(directory):\n",
    "        for file in files:\n",
    "            if file.endswith(\".nii\") or file.endswith(\".nii.gz\"):\n",
    "                nifti_files.append(os.path.join(root, file))\n",
    "    return nifti_files\n",
    "\n",
    "training_files = list_nifti_files(training_dir)\n",
    "testing_files = list_nifti_files(testing_dir)\n",
    "\n",
    "print(f\"Se encontraron {len(training_files)} archivos en {training_dir}\")\n",
    "print(f\"Se encontraron {len(testing_files)} archivos en {testing_dir}\")"
   ]
  },
  {
   "cell_type": "code",
   "execution_count": 6,
   "id": "3b78e780",
   "metadata": {},
   "outputs": [
    {
     "name": "stdout",
     "output_type": "stream",
     "text": [
      "(216, 256, 10)\n",
      "(232, 256, 10)\n",
      "(232, 256, 10)\n",
      "(256, 256, 10)\n",
      "(232, 256, 10)\n"
     ]
    },
    {
     "data": {
      "image/png": "[encoded data removed]",
      "text/plain": [
       "<Figure size 1500x500 with 5 Axes>"
      ]
     },
     "metadata": {},
     "output_type": "display_data"
    }
   ],
   "source": [
    "images = [nib.load(file).get_fdata() for file in training_files[:5]] \n",
    "fig, axs = plt.subplots(1, len(images), figsize=(15, 5))\n",
    "\n",
    "for i, img in enumerate(images):\n",
    "    axs[i].imshow(img[:, :, img.shape[2] // 2], cmap=\"gray\", interpolation='none') \n",
    "    axs[i].axis(\"off\") \n",
    "    axs[i].set_title(f\"Imagen {i+1}\")\n",
    "    print(img.shape)\n",
    "plt.show()"
   ]
  },
  {
   "cell_type": "code",
   "execution_count": 7,
   "id": "b2f64f74",
   "metadata": {},
   "outputs": [
    {
     "name": "stdout",
     "output_type": "stream",
     "text": [
      "[(216, 256, 10), (232, 256, 10), (232, 256, 10), (256, 256, 10), (232, 256, 10), (256, 216, 10), (256, 216, 10), (232, 256, 11), (222, 224, 10), (222, 224, 10), (200, 256, 10), (208, 256, 10), (208, 256, 10), (184, 256, 10), (184, 256, 10), (216, 256, 10), (256, 216, 10), (256, 216, 10), (256, 216, 9), (216, 256, 9), (216, 256, 8), (208, 256, 8), (200, 256, 7), (200, 256, 7), (216, 256, 9), (216, 256, 9), (208, 256, 8), (208, 256, 8), (256, 256, 9), (216, 256, 10), (216, 256, 10), (224, 256, 10), (216, 256, 10), (216, 256, 10), (216, 256, 10), (240, 256, 10), (216, 256, 10), (216, 256, 10), (224, 256, 10), (208, 256, 13), (216, 256, 8), (216, 256, 7), (276, 384, 8), (276, 384, 8), (208, 256, 9), (208, 256, 10), (154, 224, 6), (232, 256, 9), (208, 256, 8), (208, 256, 8), (256, 216, 9), (256, 208, 9), (256, 208, 9), (256, 216, 7), (224, 256, 10), (216, 256, 8), (216, 256, 7), (428, 512, 8), (216, 256, 9), (216, 256, 9), (256, 216, 9), (216, 256, 9), (216, 256, 9), (256, 216, 10), (210, 224, 8), (210, 224, 8), (240, 256, 9), (240, 256, 9), (256, 216, 10), (256, 208, 7), (216, 256, 7), (216, 256, 7), (256, 256, 8), (168, 224, 14), (256, 256, 8), (216, 256, 9), (154, 224, 17), (224, 154, 16), (208, 256, 6), (208, 256, 12), (208, 256, 12), (184, 288, 15), (192, 256, 7), (192, 256, 7), (264, 288, 6), (208, 174, 10), (180, 224, 14), (174, 208, 18), (174, 208, 18), (216, 304, 8), (216, 304, 8), (216, 256, 9), (248, 256, 10), (216, 256, 10), (240, 256, 10), (216, 256, 8), (208, 256, 8), (208, 256, 10), (208, 256, 10), (192, 256, 10), (224, 256, 10), (192, 256, 11), (256, 216, 9), (174, 224, 12), (208, 256, 9), (256, 216, 9), (216, 256, 8), (208, 256, 13), (232, 256, 9), (192, 256, 11), (216, 256, 10), (208, 256, 8), (174, 224, 12), (248, 256, 10), (216, 256, 7), (200, 256, 10), (208, 256, 8), (216, 256, 10), (240, 256, 10), (216, 256, 10), (216, 256, 7), (256, 216, 9), (224, 256, 10), (240, 256, 10), (216, 256, 8), (232, 256, 11), (256, 216, 7), (428, 512, 8), (256, 216, 9), (224, 256, 10), (216, 256, 11), (216, 256, 8), (216, 256, 9), (216, 256, 9), (208, 256, 10), (216, 256, 10), (232, 256, 10), (216, 256, 9), (216, 256, 11), (256, 256, 9), (154, 224, 6), (192, 256, 10), (256, 256, 10), (256, 216, 9), (256, 216, 9), (216, 256, 8), (216, 256, 9), (256, 216, 9), (216, 256, 9), (216, 256, 9), (256, 216, 10), (256, 176, 8), (256, 176, 8), (216, 256, 10), (216, 256, 10), (256, 216, 10), (256, 208, 7), (208, 256, 6), (208, 256, 6), (192, 256, 10), (192, 256, 10), (216, 256, 8), (216, 256, 8), (208, 256, 7), (208, 256, 7), (256, 256, 8), (168, 224, 14), (256, 256, 8), (214, 256, 8), (214, 256, 8), (216, 256, 8), (216, 256, 8), (216, 256, 9), (216, 256, 6), (216, 256, 6), (154, 224, 17), (224, 154, 16), (208, 256, 6), (184, 288, 15), (256, 184, 8), (256, 184, 8), (224, 154, 16), (224, 154, 16), (264, 288, 6), (154, 224, 7), (154, 224, 7), (180, 224, 8), (180, 224, 8), (174, 208, 15), (174, 208, 15), (180, 224, 10), (180, 224, 10), (208, 174, 10), (180, 224, 14), (216, 256, 8), (216, 256, 8), (216, 256, 7), (216, 256, 7), (154, 224, 16), (154, 224, 16), (232, 256, 10), (232, 256, 10), (216, 256, 8), (216, 256, 8), (216, 256, 9), (216, 256, 9), (208, 256, 9), (208, 256, 9), (232, 256, 10), (232, 256, 10), (216, 256, 9), (216, 256, 9), (256, 216, 9), (256, 216, 9), (240, 256, 10), (240, 256, 10), (224, 180, 8), (224, 180, 8), (216, 256, 9), (216, 256, 9), (214, 256, 6), (214, 256, 6), (248, 256, 10), (248, 256, 10), (208, 174, 10), (208, 174, 10), (216, 256, 11), (216, 256, 11), (216, 256, 10), (216, 256, 10), (216, 256, 10), (216, 256, 10), (256, 216, 10), (256, 216, 10), (256, 216, 9), (256, 216, 9), (174, 208, 17), (174, 208, 17), (214, 256, 9), (214, 256, 9), (240, 166, 8), (240, 166, 8), (180, 224, 9), (180, 224, 9), (216, 256, 8), (216, 256, 8), (168, 208, 21), (168, 208, 21), (208, 162, 17), (208, 162, 17), (208, 174, 16), (208, 174, 16), (162, 208, 19), (162, 208, 19), (216, 256, 9), (216, 256, 9), (154, 224, 17), (154, 224, 17), (256, 216, 10), (256, 216, 10), (256, 214, 10), (256, 214, 10), (256, 232, 10), (256, 232, 10), (224, 256, 10), (224, 256, 10), (216, 256, 11), (216, 256, 11), (216, 256, 10), (216, 256, 10), (256, 216, 10), (256, 216, 10), (216, 256, 9), (216, 256, 9), (216, 256, 9), (216, 256, 9), (174, 208, 16), (174, 208, 16), (174, 208, 20), (174, 208, 20), (256, 216, 10), (256, 216, 10), (216, 256, 8), (216, 256, 8), (256, 216, 10), (256, 216, 10), (214, 256, 8), (214, 256, 8), (232, 256, 10), (232, 256, 10), (232, 256, 9), (232, 256, 9), (232, 288, 15), (232, 288, 15), (192, 256, 8), (192, 256, 8), (214, 256, 10), (214, 256, 10), (216, 256, 8), (216, 256, 8)]\n",
      "Tamaño promedio: [219 243   9]\n",
      "Tamaño mínimo: [154 154   6]\n",
      "Tamaño máximo: [428 512  21]\n"
     ]
    }
   ],
   "source": [
    "all_files = training_files + testing_files\n",
    "images = [nib.load(file).get_fdata() for file in all_files]\n",
    "image_shapes = [img.shape for img in images]\n",
    "print(image_shapes)\n",
    "average_shape = np.mean(image_shapes, axis=0).astype(int)\n",
    "print(f\"Tamaño promedio: {average_shape}\")\n",
    "min_shape = np.min(image_shapes, axis=0)\n",
    "max_shape = np.max(image_shapes, axis=0)\n",
    "\n",
    "print(f\"Tamaño mínimo: {min_shape}\")\n",
    "print(f\"Tamaño máximo: {max_shape}\")"
   ]
  },
  {
   "cell_type": "markdown",
   "id": "f83013c7-8f1d-4bc2-9677-9912642e00f7",
   "metadata": {},
   "source": [
    "## Set deterministic training for reproducibility"
   ]
  },
  {
   "cell_type": "code",
   "execution_count": 8,
   "id": "1aaa77a6",
   "metadata": {},
   "outputs": [],
   "source": [
    "# for reproducibility purposes set a seed\n",
    "set_determinism(42)"
   ]
  },
  {
   "cell_type": "markdown",
   "id": "319bff04",
   "metadata": {},
   "source": [
    "## Description of data, download the training set and creation of dataloaders"
   ]
  },
  {
   "cell_type": "markdown",
   "id": "053fdee1",
   "metadata": {},
   "source": [
    "The brain tumour segmentation dataset is available as part of the Decathlon dataset. Select the channel (MRI contrast) you wish to use for training (0: FLAIR, 1: T1, 2: T1-PC, 3: T2). \n",
    "Note: The DecatholonDataset has 7GB. So make sure that you have enought space when running the next line"
   ]
  },
  {
   "cell_type": "markdown",
   "id": "9774010c-cc3e-49d8-9244-0dfe1b85fe1f",
   "metadata": {},
   "source": [
    "We use the following transforms:\n",
    "1. `LoadImaged`: retrieve the nii image\n",
    "2. `EnsureChannelFirstd`: we ensure that the channel component is in dimension 0 of the tensor\n",
    "3. `Lambdad`: this custom transform retrieves the specific channel that we desire\n",
    "4. `EnsureChannelFirstd`: we add the new channel dimension (as the last transform has removed it)"
   ]
  },
  {
   "cell_type": "code",
   "execution_count": 9,
   "id": "1dbaf6af",
   "metadata": {},
   "outputs": [],
   "source": [
    "# PREPARACIÓN DE LA IMAGEN MÉDICA\n",
    "# Carga las imágenes y se asegura de que la imagen cargada tenga el canal de color en la primera dimensión\n",
    "# Aplica una transformación personalizada a la imagen y garantiza que la imagen tenga el canal en la primera dimensión\n",
    "# Asegura que tenga el tipo de datos adecuado, reorienta la imagen a un sist de coord específico\n",
    "# Recorta la imagen a un tamaño específico y escala la intensidad de la imagen\n",
    "from monai.transforms import CastToTyped\n",
    "crop_size = (224, 224, 10)\n",
    "\n",
    "def one_hot_transform(label, num_classes=4):\n",
    "    # Aplica one-hot encoding a las etiquetas\n",
    "    one_hot = torch.nn.functional.one_hot(label.long(), num_classes=num_classes)\n",
    "    one_hot = one_hot.permute(3, 0, 1, 2)  # (clases, ancho, alto, profundidad)\n",
    "    return one_hot\n",
    "\n",
    "\n",
    "all_transforms = [\n",
    "    transforms.LoadImaged(keys=[\"image\"]),\n",
    "    transforms.EnsureChannelFirstd(keys=[\"image\"]),\n",
    "    transforms.EnsureTyped(keys=[\"image\"]),\n",
    "    transforms.Orientationd(keys=[\"image\"], axcodes=\"RAS\"),\n",
    "    #transforms.Spacingd(keys=[\"image\"], pixdim=(2.4, 2.4, 2.2), mode=(\"bilinear\")),\n",
    "    transforms.Spacingd(keys=[\"image\"], pixdim=(2.4, 2.4, 2.2), mode=(\"nearest\")),\n",
    "    #transforms.CenterSpatialCropd(keys=[\"image\"], roi_size=(96, 96, 64)),\n",
    "    transforms.CenterSpatialCropd(keys=[\"image\"], roi_size=crop_size),\n",
    "    #transforms.ScaleIntensityRangePercentilesd(keys=\"image\", lower=0, upper=99.5, b_min=0, b_max=1),\n",
    "    transforms.Resized(keys=[\"image\"], spatial_size=(154, 154, 6), mode=('nearest-exact')),  \n",
    "    transforms.Lambdad(keys=\"image\", func=lambda x: one_hot_transform(x[0], num_classes=4)),\n",
    "]"
   ]
  },
  {
   "cell_type": "code",
   "execution_count": 10,
   "id": "2a95ed1d",
   "metadata": {},
   "outputs": [
    {
     "name": "stdout",
     "output_type": "stream",
     "text": [
      "Image shape torch.Size([4, 154, 154, 6])\n",
      "Image shape torch.Size([4, 154, 154, 6])\n"
     ]
    }
   ],
   "source": [
    "# Crear un Dataset de MONAI para los archivos de entrenamiento y validación\n",
    "#  channel = 0  # 0 = Flair\n",
    "#  assert channel in [0, 1, 2, 3], \"Choose a valid channel\"\n",
    "\n",
    "train_data_dicts = [{\"image\": file} for file in training_files]\n",
    "train_ds = Dataset(data=train_data_dicts, transform=all_transforms)\n",
    "\n",
    "val_data_dicts = [{\"image\": file} for file in testing_files]\n",
    "val_ds = Dataset(data=val_data_dicts, transform=all_transforms)\n",
    "\n",
    "train_loader = DataLoader(train_ds, batch_size=1, shuffle=True, num_workers=1, persistent_workers=True)\n",
    "print(f'Image shape {train_ds[0][\"image\"].shape}')\n",
    "val_loader = DataLoader(val_ds, batch_size=1, shuffle=False, num_workers=1, persistent_workers=True)\n",
    "print(f'Image shape {val_ds[0][\"image\"].shape}')"
   ]
  },
  {
   "cell_type": "markdown",
   "id": "617a46a9",
   "metadata": {},
   "source": [
    "## Visualise examples from the training set"
   ]
  },
  {
   "cell_type": "code",
   "execution_count": 11,
   "id": "5b48b493",
   "metadata": {},
   "outputs": [
    {
     "name": "stdout",
     "output_type": "stream",
     "text": [
      "Tamaño de la máscara cargada: torch.Size([1, 4, 154, 154, 6])\n",
      "Valores en los canales (min, max) antes de la visualización:\n",
      "Canal 0: min = 0, max = 1\n",
      "Canal 1: min = 0, max = 1\n",
      "Canal 2: min = 0, max = 1\n",
      "Canal 3: min = 0, max = 1\n"
     ]
    },
    {
     "data": {
      "image/png": "[encoded data removed]",
      "text/plain": [
       "<Figure size 2000x500 with 4 Axes>"
      ]
     },
     "metadata": {},
     "output_type": "display_data"
    }
   ],
   "source": [
    "check_data = next(iter(train_loader)) \n",
    "image_tensor = check_data['image'] \n",
    "\n",
    "print(f\"Tamaño de la máscara cargada: {image_tensor.shape}\")\n",
    "\n",
    "depth_idx = image_tensor.size(-1) // 2 \n",
    "image_slice_axial = image_tensor[0, :, :, :, depth_idx]  # (batch, clases, ancho, alto, profundidad)\n",
    "\n",
    "# Verificar los valores en los canales para asegurarse de que hay información\n",
    "print(f\"Valores en los canales (min, max) antes de la visualización:\")\n",
    "for c in range(image_slice_axial.size(0)):\n",
    "    print(f\"Canal {c}: min = {image_slice_axial[c].min()}, max = {image_slice_axial[c].max()}\")\n",
    "\n",
    "fig, axs = plt.subplots(1, 4, figsize=(20, 5))\n",
    "\n",
    "for i in range(4): \n",
    "    axs[i].imshow(image_slice_axial[i].cpu().numpy(), cmap=\"jet\", vmin=0, vmax=1, interpolation='none')\n",
    "    axs[i].set_title(f\"Canal {i}\")\n",
    "    axs[i].axis(\"off\")\n",
    "\n",
    "plt.tight_layout()\n",
    "plt.show()\n"
   ]
  },
  {
   "cell_type": "code",
   "execution_count": 12,
   "id": "4be75659",
   "metadata": {},
   "outputs": [
    {
     "name": "stdout",
     "output_type": "stream",
     "text": [
      "Tamaño de la máscara cargada: torch.Size([1, 4, 154, 154, 6])\n"
     ]
    },
    {
     "data": {
      "image/png": "[encoded data removed]",
      "text/plain": [
       "<Figure size 600x600 with 1 Axes>"
      ]
     },
     "metadata": {},
     "output_type": "display_data"
    }
   ],
   "source": [
    "# Crear una imagen combinada utilizando colores distintos para cada canal\n",
    "# Inicializamos una imagen RGB para combinar las clases\n",
    "combined_image = np.zeros((image_slice_axial.shape[1], image_slice_axial.shape[2], 3))  # (alto, ancho, 3 canales RGB)\n",
    "\n",
    "# Canal 0 -> Rojo, Canal 1 -> Verde, Canal 2 -> Azul, Canal 3 -> Amarillo\n",
    "for i in range(4): \n",
    "    mask = image_slice_axial[i].cpu().numpy() \n",
    "    if i == 0:\n",
    "        combined_image[:, :, 0] = np.maximum(combined_image[:, :, 0], mask)  # Rojo\n",
    "    elif i == 1:\n",
    "        combined_image[:, :, 1] = np.maximum(combined_image[:, :, 1], mask)  # Verde\n",
    "    elif i == 2:\n",
    "        combined_image[:, :, 2] = np.maximum(combined_image[:, :, 2], mask)  # Azul\n",
    "    elif i == 3:\n",
    "        combined_image[:, :, 0] = np.maximum(combined_image[:, :, 0], mask)  # Rojo\n",
    "        combined_image[:, :, 1] = np.maximum(combined_image[:, :, 1], mask)  # Verde\n",
    "\n",
    "\n",
    "print(f\"Tamaño de la máscara cargada: {image_tensor.shape}\")\n",
    "plt.figure(figsize=(6, 6))\n",
    "plt.imshow(combined_image, interpolation='none')\n",
    "plt.title(\"Plano Axial\")\n",
    "plt.axis(\"off\")\n",
    "plt.show()\n"
   ]
  },
  {
   "cell_type": "code",
   "execution_count": 13,
   "id": "39548678",
   "metadata": {},
   "outputs": [
    {
     "name": "stdout",
     "output_type": "stream",
     "text": [
      "Tamaño de la máscara cargada: torch.Size([1, 4, 154, 154, 6])\n",
      "Representación one-hot generada correctamente. Visualizando cada voxel como un vector one-hot.\n"
     ]
    },
    {
     "data": {
      "image/png": "[encoded data removed]",
      "text/plain": [
       "<Figure size 2000x500 with 4 Axes>"
      ]
     },
     "metadata": {},
     "output_type": "display_data"
    }
   ],
   "source": [
    "check_data = next(iter(train_loader)) \n",
    "image_tensor = check_data['image']\n",
    "\n",
    "print(f\"Tamaño de la máscara cargada: {image_tensor.shape}\")\n",
    "\n",
    "depth_idx = image_tensor.size(-1) // 2 \n",
    "image_slice_axial = image_tensor[0, :, :, :, depth_idx]  # (batch, clases, ancho, alto, profundidad)\n",
    "\n",
    "# selecciona el índice de la clase (canal) con el valor máximo para cada voxel en el slice axial.\n",
    "one_hot_representation = np.argmax(image_slice_axial.cpu().numpy(), axis=0)\n",
    "\n",
    "print(\"Representación one-hot generada correctamente. Visualizando cada voxel como un vector one-hot.\")\n",
    "\n",
    "fig, axs = plt.subplots(1, 4, figsize=(20, 5))\n",
    "\n",
    "for i in range(4): \n",
    "    axs[i].imshow((one_hot_representation == i).astype(int), cmap=\"jet\", vmin=0, vmax=1, interpolation='none')\n",
    "    axs[i].set_title(f\"Clase {i}\")\n",
    "    axs[i].axis(\"off\")\n",
    "\n",
    "plt.tight_layout()\n",
    "plt.show()\n"
   ]
  },
  {
   "cell_type": "code",
   "execution_count": 15,
   "id": "d9bd457c",
   "metadata": {},
   "outputs": [
    {
     "data": {
      "image/png": "[encoded data removed]",
      "text/plain": [
       "<Figure size 1000x800 with 1 Axes>"
      ]
     },
     "metadata": {},
     "output_type": "display_data"
    }
   ],
   "source": [
    "# Obtener el slice axial del tensor de imagen\n",
    "depth_idx = image_tensor.size(-1) // 2 \n",
    "image_slice_axial = image_tensor[0, :, :, :, depth_idx]  # (batch, clases, ancho, alto, profundidad)\n",
    "\n",
    "# Convertir a representación one-hot\n",
    "one_hot_representation = np.argmax(image_slice_axial.cpu().numpy(), axis=0)\n",
    "\n",
    "# Crear la imagen combinada con colores distintos para cada clase\n",
    "combined_image = np.zeros_like(one_hot_representation, dtype=np.float32)\n",
    "\n",
    "for i in range(4): \n",
    "    combined_image[one_hot_representation == i] = i / 3\n",
    "\n",
    "plt.figure(figsize=(10, 8))\n",
    "plt.imshow(combined_image, cmap=\"jet\", vmin=0, vmax=1, interpolation='none')\n",
    "plt.title(\"Imagen combinada con colores distintos para cada clase\")\n",
    "plt.axis(\"off\")\n",
    "plt.show()"
   ]
  },
  {
   "cell_type": "markdown",
   "id": "19532ecb",
   "metadata": {},
   "source": [
    "## Define the network"
   ]
  },
  {
   "cell_type": "code",
   "execution_count": 16,
   "id": "0a839bfa-a494-4500-9cd0-7c6205be164c",
   "metadata": {},
   "outputs": [
    {
     "name": "stdout",
     "output_type": "stream",
     "text": [
      "Using cuda\n"
     ]
    }
   ],
   "source": [
    "device = torch.device(\"cuda\" if torch.cuda.is_available() else \"cpu\")\n",
    "print(f\"Using {device}\")"
   ]
  },
  {
   "cell_type": "code",
   "execution_count": 17,
   "id": "31a72f78",
   "metadata": {},
   "outputs": [
    {
     "name": "stdout",
     "output_type": "stream",
     "text": [
      "Input shape: torch.Size([1, 4, 154, 154, 6])\n",
      "Output shape: torch.Size([1, 4, 154, 154, 6])\n",
      "Latent space shape: torch.Size([1, 125])\n",
      "Autoencoder(\n",
      "  (encoder): Sequential(\n",
      "    (0): Conv3d(4, 16, kernel_size=(3, 3, 3), stride=(2, 2, 1), padding=(1, 1, 1))\n",
      "    (1): ReLU()\n",
      "    (2): Conv3d(16, 16, kernel_size=(3, 3, 3), stride=(1, 1, 1), padding=(1, 1, 1))\n",
      "    (3): ReLU()\n",
      "    (4): Conv3d(16, 32, kernel_size=(3, 3, 3), stride=(2, 2, 2), padding=(1, 1, 1))\n",
      "    (5): ReLU()\n",
      "    (6): Conv3d(32, 32, kernel_size=(3, 3, 3), stride=(1, 1, 1), padding=(1, 1, 1))\n",
      "    (7): ReLU()\n",
      "    (8): Conv3d(32, 64, kernel_size=(3, 3, 3), stride=(2, 2, 2), padding=(1, 1, 1))\n",
      "    (9): ReLU()\n",
      "    (10): Conv3d(64, 64, kernel_size=(3, 3, 3), stride=(1, 1, 1), padding=(1, 1, 1))\n",
      "    (11): ReLU()\n",
      "    (12): Conv3d(64, 64, kernel_size=(3, 3, 3), stride=(3, 3, 3), padding=(1, 1, 1))\n",
      "    (13): ReLU()\n",
      "  )\n",
      "  (fc): Sequential(\n",
      "    (0): Flatten(start_dim=1, end_dim=-1)\n",
      "    (1): Linear(in_features=3136, out_features=64, bias=True)\n",
      "    (2): Linear(in_features=64, out_features=125, bias=True)\n",
      "    (3): ReLU()\n",
      "  )\n",
      "  (decoder): Sequential(\n",
      "    (0): ConvTranspose3d(64, 64, kernel_size=(7, 7, 7), stride=(3, 3, 3), padding=(1, 1, 1))\n",
      "    (1): ReLU()\n",
      "    (2): Conv3d(64, 64, kernel_size=(3, 3, 3), stride=(1, 1, 1), padding=(1, 1, 1))\n",
      "    (3): ReLU()\n",
      "    (4): ConvTranspose3d(64, 32, kernel_size=(4, 4, 4), stride=(2, 2, 2), padding=(1, 1, 1))\n",
      "    (5): ReLU()\n",
      "    (6): Conv3d(32, 32, kernel_size=(3, 3, 3), stride=(1, 1, 1), padding=(1, 1, 1))\n",
      "    (7): ReLU()\n",
      "    (8): ConvTranspose3d(32, 16, kernel_size=(4, 4, 4), stride=(2, 2, 2), padding=(1, 1, 1))\n",
      "    (9): ReLU()\n",
      "    (10): Conv3d(16, 16, kernel_size=(3, 3, 3), stride=(1, 1, 1), padding=(1, 1, 1))\n",
      "    (11): ReLU()\n",
      "    (12): ConvTranspose3d(16, 16, kernel_size=(4, 4, 1), stride=(2, 2, 1), padding=(1, 1, 1))\n",
      "    (13): ReLU()\n",
      "    (14): Conv3d(16, 4, kernel_size=(3, 3, 3), stride=(1, 1, 1), padding=(1, 1, 1))\n",
      "  )\n",
      ")\n"
     ]
    }
   ],
   "source": [
    "class Autoencoder(nn.Module):\n",
    "    def __init__(self):\n",
    "        super(Autoencoder, self).__init__()\n",
    "        # Encoder\n",
    "        self.encoder = nn.Sequential(\n",
    "            # S1\n",
    "            nn.Conv3d(4, 16, kernel_size=(3, 3, 3), stride=(2, 2, 1), padding=(1, 1, 1)),\n",
    "            nn.ReLU(),\n",
    "            nn.Conv3d(16, 16, kernel_size=(3, 3, 3), stride=(1, 1, 1), padding=(1, 1, 1)),\n",
    "            nn.ReLU(),\n",
    "            # S2\n",
    "            nn.Conv3d(16, 32, kernel_size=(3, 3, 3), stride=(2, 2, 2), padding=(1, 1, 1)),\n",
    "            nn.ReLU(),\n",
    "            nn.Conv3d(32, 32, kernel_size=(3, 3, 3), stride=(1, 1, 1), padding=(1, 1, 1)),\n",
    "            nn.ReLU(),\n",
    "            # S3\n",
    "            nn.Conv3d(32, 64, kernel_size=(3, 3, 3), stride=(2, 2, 2), padding=(1, 1, 1)),\n",
    "            nn.ReLU(),\n",
    "            nn.Conv3d(64, 64, kernel_size=(3, 3, 3), stride=(1, 1, 1), padding=(1, 1, 1)),\n",
    "            nn.ReLU(),\n",
    "            # S4\n",
    "            nn.Conv3d(64, 64, kernel_size=(3, 3, 3), stride=(3, 3, 3), padding=(1, 1, 1)),\n",
    "            nn.ReLU(),\n",
    "        )\n",
    "        \n",
    "        # Fully connected layer (Latent space)\n",
    "        self.fc = nn.Sequential(\n",
    "            nn.Flatten(),\n",
    "            nn.Linear(64 * 7 * 7, 64),\n",
    "            nn.Linear(64, 125),\n",
    "            nn.ReLU(),\n",
    "        )\n",
    "        \n",
    "        # Decoder      \n",
    "        self.decoder = nn.Sequential(\n",
    "            # S4\n",
    "            nn.ConvTranspose3d(64, 64, kernel_size=(7, 7, 7), stride=(3, 3, 3), padding=(1, 1, 1)),\n",
    "            nn.ReLU(),\n",
    "            nn.Conv3d(64, 64, kernel_size=(3, 3, 3), stride=(1, 1, 1), padding=(1, 1, 1)),\n",
    "            nn.ReLU(),\n",
    "            # S3\n",
    "            nn.ConvTranspose3d(64, 32, kernel_size=(4, 4, 4), stride=(2, 2, 2), padding=(1, 1, 1)),\n",
    "            nn.ReLU(),\n",
    "            nn.Conv3d(32, 32, kernel_size=(3, 3, 3), stride=(1, 1, 1), padding=(1, 1, 1)),\n",
    "            nn.ReLU(),\n",
    "            # S2\n",
    "            nn.ConvTranspose3d(32, 16, kernel_size=(4, 4, 4), stride=(2, 2, 2), padding=(1, 1, 1)),\n",
    "            nn.ReLU(),\n",
    "            nn.Conv3d(16, 16, kernel_size=(3, 3, 3), stride=(1, 1, 1), padding=(1, 1, 1)),\n",
    "            nn.ReLU(),\n",
    "            # S1\n",
    "            nn.ConvTranspose3d(16, 16, kernel_size=(4, 4, 1), stride=(2, 2, 1), padding=(1, 1, 1)),\n",
    "            nn.ReLU(),\n",
    "            nn.Conv3d(16, 4, kernel_size=(3, 3, 3), stride=(1, 1, 1), padding=(1, 1, 1)),\n",
    "        )\n",
    "\n",
    "    def forward(self, x):\n",
    "        encoded = self.encoder(x)\n",
    "        latent_space = self.fc(encoded.flatten(start_dim=1))\n",
    "        decoded = self.decoder(encoded)\n",
    "        decoded = F.interpolate(decoded, size=x.shape[2:], mode=\"trilinear\", align_corners=False) \n",
    "        # decoded = F.softmax(decoded, dim=1)\n",
    "        return decoded, latent_space\n",
    "    \n",
    "device = torch.device('cuda' if torch.cuda.is_available() else 'cpu')\n",
    "model = Autoencoder().to(device)\n",
    "sample_input = torch.randn(1, 4, 154, 154, 6).to(device) \n",
    "sample_output, latent_space = model(sample_input)\n",
    "print(f\"Input shape: {sample_input.shape}\")\n",
    "print(f\"Output shape: {sample_output.shape}\")\n",
    "print(f\"Latent space shape: {latent_space.shape}\")\n",
    "print(model) "
   ]
  },
  {
   "cell_type": "code",
   "execution_count": 32,
   "id": "132ebe3f",
   "metadata": {},
   "outputs": [
    {
     "name": "stderr",
     "output_type": "stream",
     "text": [
      "100%|██████████| 200/200 [00:11<00:00, 17.45it/s]\n"
     ]
    },
    {
     "name": "stdout",
     "output_type": "stream",
     "text": [
      "Epoch [1/20], Train Loss: 0.2225\n"
     ]
    },
    {
     "name": "stderr",
     "output_type": "stream",
     "text": [
      "100%|██████████| 200/200 [00:11<00:00, 17.77it/s]\n"
     ]
    },
    {
     "name": "stdout",
     "output_type": "stream",
     "text": [
      "Epoch [2/20], Train Loss: 0.0693\n",
      "Epoch [2/20], Validation Loss: 0.0586\n"
     ]
    },
    {
     "name": "stderr",
     "output_type": "stream",
     "text": [
      "100%|██████████| 200/200 [00:11<00:00, 17.48it/s]\n"
     ]
    },
    {
     "name": "stdout",
     "output_type": "stream",
     "text": [
      "Epoch [3/20], Train Loss: 0.0533\n"
     ]
    },
    {
     "name": "stderr",
     "output_type": "stream",
     "text": [
      "100%|██████████| 200/200 [00:11<00:00, 17.55it/s]\n"
     ]
    },
    {
     "name": "stdout",
     "output_type": "stream",
     "text": [
      "Epoch [4/20], Train Loss: 0.0511\n",
      "Epoch [4/20], Validation Loss: 0.0579\n"
     ]
    },
    {
     "name": "stderr",
     "output_type": "stream",
     "text": [
      "100%|██████████| 200/200 [00:11<00:00, 17.45it/s]\n"
     ]
    },
    {
     "name": "stdout",
     "output_type": "stream",
     "text": [
      "Epoch [5/20], Train Loss: 0.0500\n"
     ]
    },
    {
     "name": "stderr",
     "output_type": "stream",
     "text": [
      "100%|██████████| 200/200 [00:11<00:00, 17.50it/s]\n"
     ]
    },
    {
     "name": "stdout",
     "output_type": "stream",
     "text": [
      "Epoch [6/20], Train Loss: 0.0482\n",
      "Epoch [6/20], Validation Loss: 0.0533\n"
     ]
    },
    {
     "name": "stderr",
     "output_type": "stream",
     "text": [
      "100%|██████████| 200/200 [00:11<00:00, 17.54it/s]\n"
     ]
    },
    {
     "name": "stdout",
     "output_type": "stream",
     "text": [
      "Epoch [7/20], Train Loss: 0.0450\n"
     ]
    },
    {
     "name": "stderr",
     "output_type": "stream",
     "text": [
      "100%|██████████| 200/200 [00:11<00:00, 17.43it/s]\n"
     ]
    },
    {
     "name": "stdout",
     "output_type": "stream",
     "text": [
      "Epoch [8/20], Train Loss: 0.0440\n",
      "Epoch [8/20], Validation Loss: 0.0459\n"
     ]
    },
    {
     "name": "stderr",
     "output_type": "stream",
     "text": [
      "100%|██████████| 200/200 [00:11<00:00, 17.56it/s]\n"
     ]
    },
    {
     "name": "stdout",
     "output_type": "stream",
     "text": [
      "Epoch [9/20], Train Loss: 0.0422\n"
     ]
    },
    {
     "name": "stderr",
     "output_type": "stream",
     "text": [
      "100%|██████████| 200/200 [00:11<00:00, 17.72it/s]\n"
     ]
    },
    {
     "name": "stdout",
     "output_type": "stream",
     "text": [
      "Epoch [10/20], Train Loss: 0.0398\n",
      "Epoch [10/20], Validation Loss: 0.0416\n"
     ]
    },
    {
     "name": "stderr",
     "output_type": "stream",
     "text": [
      "100%|██████████| 200/200 [00:11<00:00, 17.71it/s]\n"
     ]
    },
    {
     "name": "stdout",
     "output_type": "stream",
     "text": [
      "Epoch [11/20], Train Loss: 0.0360\n"
     ]
    },
    {
     "name": "stderr",
     "output_type": "stream",
     "text": [
      "100%|██████████| 200/200 [00:11<00:00, 17.54it/s]\n"
     ]
    },
    {
     "name": "stdout",
     "output_type": "stream",
     "text": [
      "Epoch [12/20], Train Loss: 0.0357\n",
      "Epoch [12/20], Validation Loss: 0.0372\n"
     ]
    },
    {
     "name": "stderr",
     "output_type": "stream",
     "text": [
      "100%|██████████| 200/200 [00:11<00:00, 17.78it/s]\n"
     ]
    },
    {
     "name": "stdout",
     "output_type": "stream",
     "text": [
      "Epoch [13/20], Train Loss: 0.0336\n"
     ]
    },
    {
     "name": "stderr",
     "output_type": "stream",
     "text": [
      "100%|██████████| 200/200 [00:11<00:00, 17.64it/s]\n"
     ]
    },
    {
     "name": "stdout",
     "output_type": "stream",
     "text": [
      "Epoch [14/20], Train Loss: 0.0329\n",
      "Epoch [14/20], Validation Loss: 0.0371\n"
     ]
    },
    {
     "name": "stderr",
     "output_type": "stream",
     "text": [
      "100%|██████████| 200/200 [00:11<00:00, 17.74it/s]\n"
     ]
    },
    {
     "name": "stdout",
     "output_type": "stream",
     "text": [
      "Epoch [15/20], Train Loss: 0.0311\n"
     ]
    },
    {
     "name": "stderr",
     "output_type": "stream",
     "text": [
      "100%|██████████| 200/200 [00:11<00:00, 17.74it/s]\n"
     ]
    },
    {
     "name": "stdout",
     "output_type": "stream",
     "text": [
      "Epoch [16/20], Train Loss: 0.0298\n",
      "Epoch [16/20], Validation Loss: 0.0354\n"
     ]
    },
    {
     "name": "stderr",
     "output_type": "stream",
     "text": [
      "100%|██████████| 200/200 [00:11<00:00, 17.66it/s]\n"
     ]
    },
    {
     "name": "stdout",
     "output_type": "stream",
     "text": [
      "Epoch [17/20], Train Loss: 0.0300\n"
     ]
    },
    {
     "name": "stderr",
     "output_type": "stream",
     "text": [
      "100%|██████████| 200/200 [00:11<00:00, 17.70it/s]\n"
     ]
    },
    {
     "name": "stdout",
     "output_type": "stream",
     "text": [
      "Epoch [18/20], Train Loss: 0.0294\n",
      "Epoch [18/20], Validation Loss: 0.0335\n"
     ]
    },
    {
     "name": "stderr",
     "output_type": "stream",
     "text": [
      "100%|██████████| 200/200 [00:11<00:00, 17.69it/s]\n"
     ]
    },
    {
     "name": "stdout",
     "output_type": "stream",
     "text": [
      "Epoch [19/20], Train Loss: 0.0286\n"
     ]
    },
    {
     "name": "stderr",
     "output_type": "stream",
     "text": [
      "100%|██████████| 200/200 [00:11<00:00, 17.79it/s]\n"
     ]
    },
    {
     "name": "stdout",
     "output_type": "stream",
     "text": [
      "Epoch [20/20], Train Loss: 0.0287\n",
      "Epoch [20/20], Validation Loss: 0.0335\n"
     ]
    }
   ],
   "source": [
    "model = Autoencoder().to(device)\n",
    "optimizer = optim.Adam(model.parameters(), lr=0.001, weight_decay=5e-6)\n",
    "criterion = nn.CrossEntropyLoss()\n",
    "\n",
    "# Entrenamiento\n",
    "num_epochs = 20\n",
    "val_interval = 2\n",
    "train_loss_list = []\n",
    "val_loss_list = []\n",
    "\n",
    "for epoch in range(num_epochs):\n",
    "    model.train()\n",
    "    train_loss = 0\n",
    "    \n",
    "    for batch_data in tqdm(train_loader):\n",
    "        inputs = batch_data[\"image\"].to(device).float() \n",
    "        outputs, _ = model(inputs)\n",
    "\n",
    "        loss = criterion(outputs, F.interpolate(inputs, size=outputs.shape[2:], mode='nearest'))\n",
    "        \n",
    "        optimizer.zero_grad()\n",
    "        loss.backward()\n",
    "        optimizer.step()\n",
    "        train_loss += loss.item()\n",
    "\n",
    "    avg_train_loss = train_loss / len(train_loader)\n",
    "    train_loss_list.append(avg_train_loss)\n",
    "    print(f'Epoch [{epoch+1}/{num_epochs}], Train Loss: {avg_train_loss:.4f}')\n",
    "    \n",
    "    # Validación\n",
    "    if (epoch + 1) % val_interval == 0:\n",
    "        model.eval()\n",
    "        val_loss = 0\n",
    "        with torch.no_grad():\n",
    "            for val_data in val_loader:\n",
    "                val_inputs = val_data[\"image\"].to(device).float()\n",
    "                val_outputs, _ = model(val_inputs)\n",
    "                val_loss += criterion(val_outputs, F.interpolate(val_inputs, size=val_outputs.shape[2:], mode='nearest')).item()\n",
    "        \n",
    "        avg_val_loss = val_loss / len(val_loader)\n",
    "        val_loss_list.append(avg_val_loss)\n",
    "        print(f'Epoch [{epoch+1}/{num_epochs}], Validation Loss: {avg_val_loss:.4f}')"
   ]
  },
  {
   "cell_type": "code",
   "execution_count": 33,
   "id": "8d3e8f7b",
   "metadata": {},
   "outputs": [
    {
     "data": {
      "image/png": "[encoded data removed]",
      "text/plain": [
       "<Figure size 800x600 with 1 Axes>"
      ]
     },
     "metadata": {},
     "output_type": "display_data"
    }
   ],
   "source": [
    "# Visualización de pérdidas\n",
    "plt.figure(figsize=(8, 6))\n",
    "plt.plot(range(1, num_epochs + 1), train_loss_list, label=\"Train Loss\", marker='o')\n",
    "val_epochs = list(range(val_interval, num_epochs + 1, val_interval))\n",
    "plt.plot(val_epochs, val_loss_list, label=\"Validation Loss\", marker='x')\n",
    "plt.xlabel(\"Epochs\")\n",
    "plt.ylabel(\"Loss\")\n",
    "plt.title(\"Training vs Validation Loss\")\n",
    "plt.legend()\n",
    "plt.grid(True)\n",
    "plt.tight_layout()\n",
    "plt.show()"
   ]
  },
  {
   "cell_type": "code",
   "execution_count": null,
   "id": "9426316e",
   "metadata": {},
   "outputs": [
    {
     "name": "stdout",
     "output_type": "stream",
     "text": [
      "Valores del voxel en (2, 2, 2) antes del argmax: [  8.953164  -10.797998   -5.8662605 -19.74565  ]\n",
      "Dimensiones de la entrada: (1, 4, 154, 154, 6)\n",
      "Valores de los voxeles de la entrada: min=0.0, max=1.0\n",
      "Dimensiones de la salida: (1, 4, 154, 154, 6)\n",
      "Valores de los voxeles de la salida: min=-329.02227783203125, max=121.7057876586914\n"
     ]
    },
    {
     "data": {
      "image/png": "[encoded data removed]",
      "text/plain": [
       "<Figure size 1600x800 with 2 Axes>"
      ]
     },
     "metadata": {},
     "output_type": "display_data"
    }
   ],
   "source": [
    "def representation(image_tensor, model, device, voxel_coords=(2, 2, 2)):\n",
    "    image_tensor = image_tensor.to(device).float()\n",
    "    \n",
    "    # Dimensiones de entrada\n",
    "    input_shape = tuple(image_tensor.shape)\n",
    "    input_min, input_max = torch.min(image_tensor).item(), torch.max(image_tensor).item()\n",
    "    \n",
    "    model.eval()  \n",
    "    with torch.no_grad():\n",
    "        outputs, _ = model(image_tensor)\n",
    "    \n",
    "    # Dimensiones de salida\n",
    "    output_shape = tuple(outputs.shape)\n",
    "    output_min, output_max = torch.min(outputs).item(), torch.max(outputs).item()\n",
    "    \n",
    "    z, y, x = voxel_coords\n",
    "    if z >= output_shape[2] or y >= output_shape[3] or x >= output_shape[4]:\n",
    "        raise IndexError(\n",
    "            f\"Las coordenadas del voxel {voxel_coords} están fuera de los límites de salida: {output_shape[2:]}.\"\n",
    "        )\n",
    "    voxel_values = outputs[0, :, z, y, x].cpu().numpy() # Obtener valores de un voxel en todos los canales\n",
    "    print(f\"Valores del voxel en {voxel_coords} antes del argmax: {voxel_values}\")\n",
    "    \n",
    "    print(f\"Dimensiones de la entrada: {input_shape}\")\n",
    "    print(f\"Valores de los voxeles de la entrada: min={input_min}, max={input_max}\")\n",
    "    print(f\"Dimensiones de la salida: {output_shape}\")\n",
    "    print(f\"Valores de los voxeles de la salida: min={output_min}, max={output_max}\")\n",
    "    \n",
    "    \n",
    "    depth_idx = image_tensor.size(-1) // 2  # Índice axial (medio)\n",
    "    \n",
    "    # Obtener representación antes del autoencoder\n",
    "    image_slice_axial = image_tensor[0, :, :, :, depth_idx]  # (batch, clases, ancho, alto, profundidad)\n",
    "    one_hot_representation = np.argmax(image_slice_axial.cpu().numpy(), axis=0)\n",
    "    combined_image_input = np.zeros_like(one_hot_representation, dtype=np.float32)\n",
    "    for i in range(4):\n",
    "        combined_image_input[one_hot_representation == i] = i / 3 \n",
    "    \n",
    "    # Obtener representación después del autoencoder\n",
    "    output_slice_axial = outputs[0, :, :, :, depth_idx].cpu().detach().numpy()\n",
    "    output_one_hot_representation = np.argmax(output_slice_axial, axis=0)\n",
    "    combined_image_output = np.zeros_like(output_one_hot_representation, dtype=np.float32)\n",
    "    for i in range(4): \n",
    "        combined_image_output[output_one_hot_representation == i] = i / 3 \n",
    "\n",
    "    fig, axs = plt.subplots(1, 2, figsize=(16, 8))\n",
    "\n",
    "    axs[0].imshow(combined_image_input, cmap=\"jet\", vmin=0, vmax=1)\n",
    "    axs[0].set_title(\"Antes del Autoencoder\")\n",
    "    axs[0].axis(\"off\")\n",
    "    axs[1].imshow(combined_image_output, cmap=\"jet\", vmin=0, vmax=1)\n",
    "    axs[1].set_title(\"Después del Autoencoder\")\n",
    "    axs[1].axis(\"off\")\n",
    "    plt.tight_layout()\n",
    "    plt.show()\n",
    "\n",
    "check_data = next(iter(val_loader))\n",
    "image_tensor = check_data[\"image\"]\n",
    "\n",
    "representation(image_tensor, model, device, voxel_coords=(2, 2, 2))"
   ]
  },
  {
   "cell_type": "code",
   "execution_count": null,
   "id": "48596ecf",
   "metadata": {},
   "outputs": [
    {
     "name": "stdout",
     "output_type": "stream",
     "text": [
      "Min: 0.0, Max: 3.0, Mean: 0.07816804945468903, Std: 0.4326491951942444\n",
      "Input shape: torch.Size([1, 1, 154, 154, 6])\n",
      "Output shape: torch.Size([1, 1, 154, 154, 6])\n",
      "Input image shape: (1, 154, 154, 6)\n",
      "Output image shape: (1, 154, 154, 6)\n",
      "Output Min: -0.024922387674450874, Max: 3.377908229827881, Mean: 0.09054011106491089, Std: 0.4381781816482544\n"
     ]
    },
    {
     "data": {
      "image/png": "[encoded data removed]",
      "text/plain": [
       "<Figure size 1000x500 with 2 Axes>"
      ]
     },
     "metadata": {},
     "output_type": "display_data"
    }
   ],
   "source": [
    "'''def visualize_axial_reconstruction(model, data_loader, device, num_images=1):\n",
    "    model.eval()\n",
    "    with torch.no_grad():\n",
    "     \n",
    "        batch_data = next(iter(data_loader))\n",
    "        inputs = batch_data[\"image\"].to(device)\n",
    "\n",
    "        print(f\"Min: {inputs.min()}, Max: {inputs.max()}, Mean: {inputs.mean()}, Std: {inputs.std()}\")\n",
    "        \n",
    "        # reconstrucciones del modelo\n",
    "        outputs = model(inputs)\n",
    "\n",
    "        for i in range(min(num_images, len(inputs))):\n",
    "            input_image = inputs[i].cpu().numpy()\n",
    "            output_image = outputs[i].cpu().numpy()\n",
    "            \n",
    "            outputs = model(inputs)\n",
    "            outputs_np = outputs.cpu().numpy()\n",
    "            \n",
    "            print(f\"Input shape: {inputs.shape}\")\n",
    "            print(f\"Output shape: {outputs.shape}\")\n",
    "            print(f\"Input image shape: {input_image.shape}\")\n",
    "            print(f\"Output image shape: {output_image.shape}\")\n",
    "\n",
    "            print(f\"Output Min: {outputs_np.min()}, Max: {outputs_np.max()}, Mean: {outputs_np.mean()}, Std: {outputs_np.std()}\")\n",
    "\n",
    "            # slice axial en el centro\n",
    "            slice_idx = input_image.shape[-1] // 2\n",
    "            input_slice = input_image[0, :, :, slice_idx]  \n",
    "            output_slice = output_image[0, :, :, slice_idx]\n",
    "\n",
    "\n",
    "            fig, ax = plt.subplots(1, 2, figsize=(10, 5))\n",
    "            ax[0].imshow(input_slice, cmap=\"gray\")\n",
    "            ax[0].set_title(f\"Entrada - Slice axial {slice_idx}\")\n",
    "            ax[0].axis('off')\n",
    "            ax[1].imshow(output_slice, cmap=\"gray\")\n",
    "            ax[1].set_title(f\"Reconstrucción - Slice axial {slice_idx}\")\n",
    "            ax[1].axis('off')\n",
    "            plt.tight_layout()\n",
    "            plt.show()\n",
    "\n",
    "visualize_axial_reconstruction(model, val_loader, device)'''\n"
   ]
  },
  {
   "cell_type": "code",
   "execution_count": null,
   "id": "d8d18ab3",
   "metadata": {},
   "outputs": [],
   "source": []
  },
  {
   "cell_type": "code",
   "execution_count": null,
   "id": "ed194575",
   "metadata": {},
   "outputs": [],
   "source": []
  }
 ],
 "metadata": {
  "jupytext": {
   "formats": "ipynb,py"
  },
  "kernelspec": {
   "display_name": "cardio",
   "language": "python",
   "name": "python3"
  },
  "language_info": {
   "codemirror_mode": {
    "name": "ipython",
    "version": 3
   },
   "file_extension": ".py",
   "mimetype": "text/x-python",
   "name": "python",
   "nbconvert_exporter": "python",
   "pygments_lexer": "ipython3",
   "version": "3.10.15"
  }
 },
 "nbformat": 4,
 "nbformat_minor": 5
}
