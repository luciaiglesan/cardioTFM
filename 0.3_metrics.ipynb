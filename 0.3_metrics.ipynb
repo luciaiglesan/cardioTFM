{
 "cells": [
  {
   "cell_type": "code",
   "execution_count": 1,
   "metadata": {},
   "outputs": [],
   "source": [
    "import numpy as np\n",
    "import raster_geometry as rg\n",
    "\n",
    "import matplotlib.pyplot as plt\n",
    "\n",
    "import torch\n",
    "from torchmetrics.segmentation import DiceScore, HausdorffDistance, MeanIoU\n",
    "from torchmetrics.functional.segmentation import dice_score, hausdorff_distance"
   ]
  },
  {
   "cell_type": "code",
   "execution_count": 4,
   "metadata": {},
   "outputs": [],
   "source": [
    "target_class1 = rg.circle(shape=(128,128), radius=17, position=(0.7,0.2)).astype(int).reshape(1,1,128,128)\n",
    "target_class2 = rg.circle(shape=(128,128), radius=19, position=(0.2,0.7)).astype(int).reshape(1,1,128,128)\n",
    "target_class0 = (np.ones((1,1,128,128)) - np.logical_or(target_class1, target_class2)).astype(int)\n",
    "target = np.concatenate([target_class0, target_class1, target_class2], axis=1)\n",
    "\n",
    "preds_class1 = rg.circle(shape=(128,128), radius=21, position=(0.68,0.25)).astype(int).reshape(1,1,128,128)\n",
    "preds_class2 = rg.circle(shape=(128,128), radius=17, position=(0.25,0.65)).astype(int).reshape(1,1,128,128)\n",
    "preds_class0 = (np.ones((1,1,128,128)) - np.logical_or(preds_class1, preds_class2)).astype(int)\n",
    "preds = np.concatenate([preds_class0, preds_class1, preds_class2], axis=1)"
   ]
  },
  {
   "cell_type": "code",
   "execution_count": 5,
   "metadata": {},
   "outputs": [
    {
     "data": {
      "text/plain": [
       "((1, 3, 128, 128), (1, 3, 128, 128))"
      ]
     },
     "execution_count": 5,
     "metadata": {},
     "output_type": "execute_result"
    }
   ],
   "source": [
    "target.shape, preds.shape # batch[1], classes[3], height[128], width[128]"
   ]
  },
  {
   "cell_type": "code",
   "execution_count": 6,
   "metadata": {},
   "outputs": [
    {
     "data": {
      "image/png": "[encoded data removed]",
      "text/plain": [
       "<Figure size 1000x500 with 2 Axes>"
      ]
     },
     "metadata": {},
     "output_type": "display_data"
    }
   ],
   "source": [
    "fig, axes = plt.subplots(1,2, figsize=(10,5))\n",
    "axes[0].imshow(np.argmax(target[0], axis=0))\n",
    "axes[0].axis('off')\n",
    "axes[0].set_title('Target')\n",
    "\n",
    "axes[1].imshow(np.argmax(preds[0], axis=0))\n",
    "axes[1].axis('off')\n",
    "axes[1].set_title('Prediction')\n",
    "\n",
    "plt.tight_layout()\n",
    "plt.show()"
   ]
  },
  {
   "cell_type": "code",
   "execution_count": 7,
   "metadata": {},
   "outputs": [
    {
     "data": {
      "text/plain": [
       "(torch.Size([4, 3, 128, 128]), torch.Size([4, 3, 128, 128]))"
      ]
     },
     "execution_count": 7,
     "metadata": {},
     "output_type": "execute_result"
    }
   ],
   "source": [
    "preds_torch = torch.from_numpy(np.concatenate([preds, preds, preds, preds], axis=0))            # batch:4 (repeat the same prediction)\n",
    "target_torch = torch.from_numpy(np.concatenate([target, target, target, target], axis=0))       # batch:4 (repeat the same target)\n",
    "preds_torch.shape, target_torch.shape"
   ]
  },
  {
   "cell_type": "markdown",
   "metadata": {},
   "source": [
    "### Dice Score\n",
    "\n",
    "https://lightning.ai/docs/torchmetrics/stable/segmentation/dice.html"
   ]
  },
  {
   "cell_type": "markdown",
   "metadata": {},
   "source": [
    "Module Interface (https://lightning.ai/docs/torchmetrics/stable/segmentation/dice.html#module-interface)"
   ]
  },
  {
   "cell_type": "code",
   "execution_count": 45,
   "metadata": {},
   "outputs": [],
   "source": [
    "dice_score_metric = DiceScore(num_classes=3, include_background=False, \n",
    "                              average='none', input_format='one-hot')"
   ]
  },
  {
   "cell_type": "code",
   "execution_count": 46,
   "metadata": {},
   "outputs": [
    {
     "data": {
      "text/plain": [
       "tensor([0.7334, 0.6790])"
      ]
     },
     "execution_count": 46,
     "metadata": {},
     "output_type": "execute_result"
    }
   ],
   "source": [
    "dice_score_metric(preds_torch, target_torch)"
   ]
  },
  {
   "cell_type": "markdown",
   "metadata": {},
   "source": [
    "Functional Interface (https://lightning.ai/docs/torchmetrics/stable/segmentation/dice.html#functional-interface)"
   ]
  },
  {
   "cell_type": "code",
   "execution_count": 47,
   "metadata": {},
   "outputs": [
    {
     "data": {
      "text/plain": [
       "tensor([[0.7334, 0.6790],\n",
       "        [0.7334, 0.6790],\n",
       "        [0.7334, 0.6790],\n",
       "        [0.7334, 0.6790]])"
      ]
     },
     "execution_count": 47,
     "metadata": {},
     "output_type": "execute_result"
    }
   ],
   "source": [
    "dice_score(preds_torch, target_torch, num_classes=3, include_background=False, \n",
    "           average='none', input_format='one-hot')"
   ]
  },
  {
   "cell_type": "code",
   "execution_count": 48,
   "metadata": {},
   "outputs": [
    {
     "data": {
      "text/plain": [
       "tensor([0.7334, 0.6790])"
      ]
     },
     "execution_count": 48,
     "metadata": {},
     "output_type": "execute_result"
    }
   ],
   "source": [
    "# average='none' -> Calculate the metric for each class separately, \n",
    "# and return the metric for every class.\n",
    "dice_score(preds_torch, target_torch, num_classes=3, include_background=False, \n",
    "           average='none', input_format='one-hot').mean(axis=0)"
   ]
  },
  {
   "cell_type": "code",
   "execution_count": 49,
   "metadata": {},
   "outputs": [
    {
     "data": {
      "text/plain": [
       "tensor([0.7078, 0.7078, 0.7078, 0.7078])"
      ]
     },
     "execution_count": 49,
     "metadata": {},
     "output_type": "execute_result"
    }
   ],
   "source": [
    "# average='micro' -> Calculate the metric globally, across all samples and classes.\n",
    "dice_score(preds_torch, target_torch, num_classes=3, include_background=False, \n",
    "           average='micro', input_format='one-hot')"
   ]
  },
  {
   "cell_type": "code",
   "execution_count": 50,
   "metadata": {},
   "outputs": [
    {
     "data": {
      "text/plain": [
       "tensor([0.7062, 0.7062, 0.7062, 0.7062])"
      ]
     },
     "execution_count": 50,
     "metadata": {},
     "output_type": "execute_result"
    }
   ],
   "source": [
    "# average='macro' -> Calculate the metric for each class separately, \n",
    "# and return the unweighted average of the metric for every class.\n",
    "dice_score(preds_torch, target_torch, num_classes=3, include_background=False, \n",
    "           average='macro', input_format='one-hot')"
   ]
  },
  {
   "cell_type": "code",
   "execution_count": 51,
   "metadata": {},
   "outputs": [
    {
     "data": {
      "text/plain": [
       "tensor([0.7032, 0.7032, 0.7032, 0.7032])"
      ]
     },
     "execution_count": 51,
     "metadata": {},
     "output_type": "execute_result"
    }
   ],
   "source": [
    "# average='weighted' -> Calculate the metric for each class separately, \n",
    "# and return the weighted average of the metric for every class.\n",
    "dice_score(preds_torch, target_torch, num_classes=3, include_background=False, \n",
    "           average='weighted', input_format='one-hot')"
   ]
  },
  {
   "cell_type": "code",
   "execution_count": null,
   "metadata": {},
   "outputs": [],
   "source": []
  },
  {
   "cell_type": "markdown",
   "metadata": {},
   "source": [
    "### Housdorff Distance\n",
    "\n",
    "https://lightning.ai/docs/torchmetrics/stable/segmentation/hausdorff_distance.html"
   ]
  },
  {
   "cell_type": "code",
   "execution_count": 52,
   "metadata": {},
   "outputs": [],
   "source": [
    "hd_metric = HausdorffDistance(\n",
    "    num_classes=3, \n",
    "    include_background=False, \n",
    "    distance_metric='euclidean', \n",
    "    spacing=[1,1], \n",
    "    input_format='one-hot'\n",
    ")"
   ]
  },
  {
   "cell_type": "code",
   "execution_count": 53,
   "metadata": {},
   "outputs": [
    {
     "data": {
      "text/plain": [
       "tensor(11.2470)"
      ]
     },
     "execution_count": 53,
     "metadata": {},
     "output_type": "execute_result"
    }
   ],
   "source": [
    "hd_metric(preds_torch, target_torch)"
   ]
  },
  {
   "cell_type": "code",
   "execution_count": 55,
   "metadata": {},
   "outputs": [
    {
     "data": {
      "text/plain": [
       "tensor([[11.1803, 11.3137],\n",
       "        [11.1803, 11.3137],\n",
       "        [11.1803, 11.3137],\n",
       "        [11.1803, 11.3137]])"
      ]
     },
     "execution_count": 55,
     "metadata": {},
     "output_type": "execute_result"
    }
   ],
   "source": [
    "hausdorff_distance(\n",
    "    preds_torch, \n",
    "    target_torch, \n",
    "    num_classes=3, \n",
    "    include_background=False, \n",
    "    distance_metric='euclidean', \n",
    "    spacing=[1,1], \n",
    "    input_format='one-hot'\n",
    ")"
   ]
  },
  {
   "cell_type": "code",
   "execution_count": null,
   "metadata": {},
   "outputs": [],
   "source": []
  },
  {
   "cell_type": "markdown",
   "metadata": {},
   "source": [
    "### MeanIoU\n",
    "\n",
    "https://lightning.ai/docs/torchmetrics/stable/segmentation/mean_iou.html"
   ]
  },
  {
   "cell_type": "code",
   "execution_count": 9,
   "metadata": {},
   "outputs": [
    {
     "data": {
      "text/plain": [
       "tensor([0.5791, 0.5141])"
      ]
     },
     "execution_count": 9,
     "metadata": {},
     "output_type": "execute_result"
    }
   ],
   "source": [
    "meanIoU_metric = MeanIoU(num_classes=3, per_class=True, include_background=False, input_format='one-hot')\n",
    "meanIoU_metric(preds_torch, target_torch)"
   ]
  },
  {
   "cell_type": "code",
   "execution_count": null,
   "metadata": {},
   "outputs": [],
   "source": []
  }
 ],
 "metadata": {
  "kernelspec": {
   "display_name": "cardio_TGV",
   "language": "python",
   "name": "python3"
  },
  "language_info": {
   "codemirror_mode": {
    "name": "ipython",
    "version": 3
   },
   "file_extension": ".py",
   "mimetype": "text/x-python",
   "name": "python",
   "nbconvert_exporter": "python",
   "pygments_lexer": "ipython3",
   "version": "3.10.15"
  }
 },
 "nbformat": 4,
 "nbformat_minor": 2
}
